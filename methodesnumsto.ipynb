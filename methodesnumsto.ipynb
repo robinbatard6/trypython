{
 "cells": [
  {
   "cell_type": "code",
   "execution_count": 1,
   "id": "4a64e949",
   "metadata": {},
   "outputs": [],
   "source": [
    "import numpy as np\n",
    "import matplotlib.pyplot as plt\n",
    "from scipy.stats import norm"
   ]
  },
  {
   "cell_type": "code",
   "execution_count": 2,
   "id": "218dba13",
   "metadata": {},
   "outputs": [],
   "source": [
    "# paramètres de l'option\n",
    "S0 = 247.12\n",
    "r = 0.035\n",
    "sigma = 0.2\n",
    "T = 2.\n",
    "K = 269.99"
   ]
  },
  {
   "cell_type": "code",
   "execution_count": 3,
   "id": "172ade37",
   "metadata": {},
   "outputs": [
    {
     "name": "stdout",
     "output_type": "stream",
     "text": [
      "La valeur exacte de l'option est C0 = 25.802604669573824\n"
     ]
    }
   ],
   "source": [
    "# valeur exacte (analytique) de l'option\n",
    "d1 = (np.log(S0/K)+(r+0.5*sigma**2)*T)/(sigma*np.sqrt(T))\n",
    "d2 = d1-sigma*np.sqrt(T)\n",
    "C0vrai = S0*norm.cdf(d1)-K*np.exp(-r*T)*norm.cdf(d2)\n",
    "print(\"La valeur exacte de l'option est C0 =\",C0vrai)"
   ]
  },
  {
   "cell_type": "code",
   "execution_count": 4,
   "id": "5fa05700",
   "metadata": {},
   "outputs": [
    {
     "name": "stdout",
     "output_type": "stream",
     "text": [
      "205.75510548293087 0.0\n"
     ]
    }
   ],
   "source": [
    "# un tirage - une intégration numérique de l'EDS\n",
    "# boucle en temps pour passer de S0 à ST\n",
    "N = 1000\n",
    "ST = S0\n",
    "dt = T/N\n",
    "for i in range(N):\n",
    "    ST += r*ST*dt + sigma*ST*norm.rvs(scale=np.sqrt(dt))\n",
    "# payoff\n",
    "CT = max(ST-K,0)\n",
    "# actualisation\n",
    "C0 = CT*np.exp(-r*T)\n",
    "#=> valeur de C0\n",
    "print(ST,C0)"
   ]
  },
  {
   "cell_type": "code",
   "execution_count": 5,
   "id": "4df2172a",
   "metadata": {},
   "outputs": [
    {
     "name": "stdout",
     "output_type": "stream",
     "text": [
      "La valeur estimée de C0 est = 25.775165047599923\n"
     ]
    }
   ],
   "source": [
    "# idem mais pour NMC tirages (N simulations de Monte Carlo)\n",
    "NMC = 10000\n",
    "N = 1000\n",
    "ST = S0*np.ones((NMC))\n",
    "dt = T/N\n",
    "for i in range(N):\n",
    "    ST += r*ST*dt + sigma*ST*norm.rvs(scale=np.sqrt(dt),size=NMC)\n",
    "# payoff\n",
    "CT = np.maximum(ST-K,0)\n",
    "# actualisation\n",
    "C0 = CT*np.exp(-r*T)\n",
    "# valeur moyenne\n",
    "C0MC = np.mean(C0)\n",
    "print(\"La valeur estimée de C0 est =\",C0MC)"
   ]
  },
  {
   "cell_type": "code",
   "execution_count": 6,
   "id": "e649dd08",
   "metadata": {},
   "outputs": [
    {
     "name": "stdout",
     "output_type": "stream",
     "text": [
      "La valeur estimée de C0 est = 25.79776967190634\n"
     ]
    }
   ],
   "source": [
    "# idem mais pour avec la formule explicite de ST\n",
    "NMC = 100000000\n",
    "ST = S0*np.exp((r-0.5*sigma**2)*T+sigma*norm.rvs(scale=np.sqrt(T),size=NMC))\n",
    "# payoff\n",
    "CT = np.maximum(ST-K,0)\n",
    "# actualisation\n",
    "C0 = CT*np.exp(-r*T)\n",
    "# valeur moyenne\n",
    "C0MC = np.mean(C0)\n",
    "print(\"La valeur estimée de C0 est =\",C0MC)"
   ]
  },
  {
   "cell_type": "code",
   "execution_count": 7,
   "id": "8435b299",
   "metadata": {},
   "outputs": [
    {
     "data": {
      "text/plain": [
       "array([-9.75177367,  4.68002279,  6.47869283, ...,  4.44660151,\n",
       "        4.6581515 , -8.13488277])"
      ]
     },
     "execution_count": 7,
     "metadata": {},
     "output_type": "execute_result"
    }
   ],
   "source": []
  },
  {
   "cell_type": "code",
   "execution_count": null,
   "id": "a13e50a0",
   "metadata": {},
   "outputs": [],
   "source": []
  }
 ],
 "metadata": {
  "kernelspec": {
   "display_name": "Python 3",
   "language": "python",
   "name": "python3"
  },
  "language_info": {
   "codemirror_mode": {
    "name": "ipython",
    "version": 3
   },
   "file_extension": ".py",
   "mimetype": "text/x-python",
   "name": "python",
   "nbconvert_exporter": "python",
   "pygments_lexer": "ipython3",
   "version": "3.8.8"
  }
 },
 "nbformat": 4,
 "nbformat_minor": 5
}
